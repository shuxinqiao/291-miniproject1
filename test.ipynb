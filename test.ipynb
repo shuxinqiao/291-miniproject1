{
 "cells": [
  {
   "cell_type": "code",
   "execution_count": 1,
   "metadata": {},
   "outputs": [],
   "source": [
    "import sqlite3\n",
    "import time"
   ]
  },
  {
   "cell_type": "code",
   "execution_count": 92,
   "metadata": {},
   "outputs": [],
   "source": [
    "class database:\n",
    "    def __init__(self, path):\n",
    "        self.path = path\n",
    "        self.connection = sqlite3.connect(self.path)\n",
    "        self.cursor = self.connection.cursor()\n",
    "    \n",
    "    def set_foreign_key(self, set):\n",
    "        if set.lower() == 'on':\n",
    "            self.cursor.execute(' PRAGMA foreign_keys=ON; ')\n",
    "        elif set.lower() == 'off':\n",
    "            self.cursor.execute(' PRAGMA foreign_keys=OFF; ')\n",
    "        return self.connection.commit()\n",
    "    \n",
    "    def col_name(self, table):\n",
    "        statement = ' PRAGMA table_info(`%s`); ' % table\n",
    "        result = self.cursor.execute(statement)\n",
    "        print(result.fetchall())"
   ]
  },
  {
   "cell_type": "code",
   "execution_count": 93,
   "metadata": {},
   "outputs": [
    {
     "name": "stdout",
     "output_type": "stream",
     "text": [
      "[(0, 'email', 'char(20)', 0, None, 1), (1, 'name', 'char(16)', 0, None, 0), (2, 'pwd', 'char(4)', 0, None, 0), (3, 'city', 'char(15)', 0, None, 0), (4, 'gender', 'char(1)', 0, None, 0)]\n"
     ]
    }
   ],
   "source": [
    "path = 'miniproject.db'\n",
    "db = database(path)\n",
    "db.set_foreign_key(\"on\")\n",
    "db.col_name('users')"
   ]
  },
  {
   "cell_type": "code",
   "execution_count": null,
   "metadata": {},
   "outputs": [],
   "source": []
  }
 ],
 "metadata": {
  "kernelspec": {
   "display_name": "Python 3",
   "language": "python",
   "name": "python3"
  },
  "language_info": {
   "codemirror_mode": {
    "name": "ipython",
    "version": 3
   },
   "file_extension": ".py",
   "mimetype": "text/x-python",
   "name": "python",
   "nbconvert_exporter": "python",
   "pygments_lexer": "ipython3",
   "version": "3.7.3"
  }
 },
 "nbformat": 4,
 "nbformat_minor": 2
}
