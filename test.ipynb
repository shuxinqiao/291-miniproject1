{
 "cells": [
  {
   "cell_type": "code",
   "execution_count": 1,
   "metadata": {},
   "outputs": [],
   "source": [
    "import sqlite3\n",
    "import time\n",
    "from tkinter import *"
   ]
  },
  {
   "cell_type": "code",
   "execution_count": 28,
   "metadata": {},
   "outputs": [],
   "source": [
    "class database:\n",
    "    def __init__(self, path):\n",
    "        self.path = path\n",
    "        self.connection = sqlite3.connect(self.path)\n",
    "        self.cursor = self.connection.cursor()\n",
    "    \n",
    "    def set_foreign_key(self, set):\n",
    "        if set.lower() == 'on':\n",
    "            self.cursor.execute(' PRAGMA foreign_keys=ON; ')\n",
    "        elif set.lower() == 'off':\n",
    "            self.cursor.execute(' PRAGMA foreign_keys=OFF; ')\n",
    "        return self.connection.commit()\n",
    "    \n",
    "    def col_name(self, table):\n",
    "        statement = ' PRAGMA table_info(`%s`); ' % table\n",
    "        result = self.cursor.execute(statement)\n",
    "        print(result.fetchall())\n",
    "        \n",
    "    def select(self, selectlist, buffer):\n",
    "        temp = 'SELECT'\n",
    "        if len(selectlist) > 2:\n",
    "            for index in len(selectlist) - 2:\n",
    "                temp += ' ' + selectlist[index] + ','\n",
    "            temp += ' ' + selectlist[-1]\n",
    "        else:\n",
    "            \n",
    "        buffer += temp\n",
    "        return buffer\n",
    "    \n",
    "    def where(self, statement, buffer):\n",
    "        buffer += ' ' + statement\n",
    "        return buffer\n",
    "    \n",
    "    def \n",
    "    \n",
    "    def end(self, buffer):\n",
    "        buffer += ';'\n",
    "        return buffer\n",
    "    \n",
    "    def exe(self, buffer):\n",
    "        result = self.cursor.execute(buffer)\n",
    "        print(result.fetchall())"
   ]
  },
  {
   "cell_type": "code",
   "execution_count": 29,
   "metadata": {},
   "outputs": [
    {
     "name": "stdout",
     "output_type": "stream",
     "text": [
      "[(0, 'email', 'char(20)', 0, None, 1), (1, 'name', 'char(16)', 0, None, 0), (2, 'pwd', 'char(4)', 0, None, 0), (3, 'city', 'char(15)', 0, None, 0), (4, 'gender', 'char(1)', 0, None, 0)]\n"
     ]
    }
   ],
   "source": [
    "path = 'miniproject.db'\n",
    "db = database(path)\n",
    "db.set_foreign_key(\"on\")\n",
    "db.col_name('users')"
   ]
  },
  {
   "cell_type": "code",
   "execution_count": 30,
   "metadata": {},
   "outputs": [
    {
     "name": "stdout",
     "output_type": "stream",
     "text": [
      "[('ibev@gmail.com', 'Ivan Beverly', 'password', 'Edmonton', 'M'), ('rupertd@yahoo.ca', 'Rupert Das', 'qwerty', 'Waterloo', 'M'), ('abanner@ualberta.ca', 'Andrea Banner', 'aeiouy', 'Calgary', 'F'), ('justhereforfun@live.ca', 'Anony Mouse', 'nope', 'Vancouver', 'M'), ('jeansantiago@hotmail.com', 'Jeannette Santiago', 'jjsan', 'Edmonton', 'F'), ('myonlysunshine@outlook.com', 'Klara Sunshine', '1989baby!', 'Calgary', 'F'), ('teeltheburn@gmail.com', 'Patrick Teel', 'whoami1', 'Vancouver', 'M'), ('mattress@mattress.com', 'Dave Mattress', 'mattress', 'Edmonton', 'M')]\n"
     ]
    }
   ],
   "source": [
    "buffer = ''\n",
    "buffer = db.select('users', buffer)\n",
    "buffer = db.end(buffer)\n",
    "db.exe(buffer)"
   ]
  },
  {
   "cell_type": "code",
   "execution_count": null,
   "metadata": {},
   "outputs": [],
   "source": []
  }
 ],
 "metadata": {
  "kernelspec": {
   "display_name": "Python 3",
   "language": "python",
   "name": "python3"
  },
  "language_info": {
   "codemirror_mode": {
    "name": "ipython",
    "version": 3
   },
   "file_extension": ".py",
   "mimetype": "text/x-python",
   "name": "python",
   "nbconvert_exporter": "python",
   "pygments_lexer": "ipython3",
   "version": "3.7.4"
  }
 },
 "nbformat": 4,
 "nbformat_minor": 2
}
