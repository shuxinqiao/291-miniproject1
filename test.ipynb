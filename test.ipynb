{
 "cells": [
  {
   "cell_type": "code",
   "execution_count": 1,
   "metadata": {},
   "outputs": [],
   "source": [
    "import sqlite3\n",
    "import time\n",
    "from tkinter import *"
   ]
  },
  {
   "cell_type": "code",
   "execution_count": 4,
   "metadata": {},
   "outputs": [],
   "source": [
    "class database:\n",
    "    def __init__(self, path):\n",
    "        self.path = path\n",
    "        self.connection = sqlite3.connect(self.path)\n",
    "        self.cursor = self.connection.cursor()\n",
    "    \n",
    "    def set_foreign_key(self, set):\n",
    "        if set.lower() == 'on':\n",
    "            self.cursor.execute(' PRAGMA foreign_keys=ON; ')\n",
    "        elif set.lower() == 'off':\n",
    "            self.cursor.execute(' PRAGMA foreign_keys=OFF; ')\n",
    "        return self.connection.commit()\n",
    "    \n",
    "    def exe(self, buffer):\n",
    "        result = self.cursor.execute(buffer)\n",
    "        print(result.fetchall())"
   ]
  },
  {
   "cell_type": "code",
   "execution_count": 5,
   "metadata": {},
   "outputs": [],
   "source": [
    "path = 'miniproject.db'\n",
    "db = database(path)\n",
    "db.set_foreign_key(\"on\")"
   ]
  },
  {
   "cell_type": "code",
   "execution_count": 78,
   "metadata": {},
   "outputs": [
    {
     "name": "stdout",
     "output_type": "stream",
     "text": [
      "G01\tGalaxyland Ticket\t1\t3.5\t\n",
      "M03\tMattress\t2\t4.5\t\n",
      "P01\tPlaystation 4\t3\t2.933333333333333\t\n"
     ]
    }
   ],
   "source": [
    "result = db.cursor.execute('''SELECT P.pid, P.descr, COUNT(DISTINCT PR.rid), coalesce(AVG(PR.rating), 0), COUNT(DISTINCT S.sid) AS active_sales \n",
    "                      FROM products as P\n",
    "                      LEFT JOIN previews as PR ON PR.pid = P.pid\n",
    "                      INNER JOIN sales as S ON P.pid = S.pid \n",
    "                      WHERE DATE('now') < S.edate\n",
    "                      GROUP BY P.pid\n",
    "                      ORDER BY active_sales DESC;''')\n",
    "table = result.fetchall()\n",
    "\n",
    "for row in table:\n",
    "    for col in range(0, len(row) - 1):\n",
    "        print(row[col],end = \"\\t\")\n",
    "    print(\"\")"
   ]
  },
  {
   "cell_type": "code",
   "execution_count": 46,
   "metadata": {},
   "outputs": [],
   "source": [
    "def main():\n",
    "   \n",
    "    print(\"Please choose your action: (enter the number to choose)\")\n",
    "    print(\"1. Write a product review\")\n",
    "    print(\"2. See the reviews of product\")\n",
    "    print(\"3. See the sales of product\")\n",
    "    user_input = False\n",
    "\n",
    "    while user_input not in ['1','2','3']:\n",
    "        user_input = input(\"Make your choice: \")\n",
    "       \n",
    "    # Choose to insert some sales\n",
    "    if user_input == '1':\n",
    "        user_input = input(\"Choose the product you want to review: \")\n",
    "        db.cursor.execute('''INSERT INTO previews() VALUES(?, ?, ?, ?)''', (x,x,x,x))\n",
    "        db.connection.commit()\n",
    "\n",
    "    # Choose to see all reviews\n",
    "    elif user_input == '2':\n",
    "        db.cursor.execute('''SELECT * FROM previews WHERE pid = ?''', (x))\n",
    "        db.connection.commit()\n",
    "\n",
    "    # Choose to see all active sales\n",
    "    elif user_input == '3':\n",
    "        db.cursor.execute('''SELECT * FROM sales WHERE date('now') < edate ORDER BY edate ASC''')\n",
    "        db.connection.commit()"
   ]
  },
  {
   "cell_type": "code",
   "execution_count": null,
   "metadata": {},
   "outputs": [],
   "source": [
    "#Q2\n"
   ]
  }
 ],
 "metadata": {
  "kernelspec": {
   "display_name": "Python 3",
   "language": "python",
   "name": "python3"
  },
  "language_info": {
   "codemirror_mode": {
    "name": "ipython",
    "version": 3
   },
   "file_extension": ".py",
   "mimetype": "text/x-python",
   "name": "python",
   "nbconvert_exporter": "python",
   "pygments_lexer": "ipython3",
   "version": "3.7.4"
  }
 },
 "nbformat": 4,
 "nbformat_minor": 2
}
